{
 "cells": [
  {
   "cell_type": "code",
   "execution_count": 164,
   "metadata": {
    "collapsed": false
   },
   "outputs": [],
   "source": [
    "from segpy.reader import create_reader\n",
    "import report as util\n",
    "import numpy as np\n",
    "import matplotlib.pyplot as plt"
   ]
  },
  {
   "cell_type": "code",
   "execution_count": 165,
   "metadata": {
    "collapsed": true
   },
   "outputs": [],
   "source": [
    "#2-D Rev 1 Data\n",
    "filename = \"traces.sgy\"\n",
    "\n",
    "def get_max_amplitude(data, perc=90):\n",
    "    sorted_array = np.sort(np.abs(data), axis=None)\n",
    "    tam = len(sorted_array)\n",
    "    index = round((perc/100)*tam)\n",
    "    max_amplitude = sorted_array[index - 1]\n",
    "    return max_amplitude\n",
    "\n",
    "def scaled_data(data, max_amplitude, dx):\n",
    "    #Correcting amplitudes for all data\n",
    "    new_data = []\n",
    "    scale = dx/max_amplitude\n",
    "    for trace in data:    \n",
    "        corrected_data = np.array([x  if abs(x) <= max_amplitude else max_amplitude*np.sign(x) for x in trace])\n",
    "        new_data.append(scale*corrected_data)\n",
    "        \n",
    "    return new_data\n",
    "\n",
    "#Opening Tape\n",
    "with open(filename, 'rb') as file:\n",
    "    segy_reader = create_reader(file)    \n",
    "    #Sample interval (microseconds) between samples in a trace for all traces\n",
    "    interval = segy_reader._binary_reel_header.sample_interval*pow(10,-6)\n",
    "    #Number of samples for all traces\n",
    "    nsamples = segy_reader._binary_reel_header.num_samples\n",
    "    #Traces data\n",
    "    all_data = []\n",
    "    #Center of oscillatory data for each trace\n",
    "    all_offset = []\n",
    "    \n",
    "    #Reading Traces for first tape CDP\n",
    "    cdp = segy_reader.trace_header(0).ensemble_num\n",
    "    aux = cdp\n",
    "    for trace_index in segy_reader.trace_indexes():         \n",
    "        if(aux !=  cdp):\n",
    "            break\n",
    "        aux = segy_reader.trace_header(trace_index).ensemble_num\n",
    "        #X-axis\n",
    "        all_offset.append(segy_reader.trace_header(trace_index).source_receiver_offset)\n",
    "        all_data.append(np.array(segy_reader.trace_samples(trace_index)))\n",
    "        "
   ]
  },
  {
   "cell_type": "code",
   "execution_count": 166,
   "metadata": {
    "collapsed": false
   },
   "outputs": [],
   "source": [
    "plt.close() \n",
    "#Offset distance between traces\n",
    "dx = 50        \n",
    "#Scaling data\n",
    "max_amplitude = get_max_amplitude(all_data, perc=90)\n",
    "new_all_data = scaled_data(all_data, max_amplitude, dx)\n",
    "    \n",
    "        \n",
    "#         plt.plot(trace_data + offset, time_vec)        \n",
    "        #break\n",
    "#     print(len(all_data))    \n",
    "    #Plotting\n",
    "    #Y-axis\n",
    "    #time_vec = np.linspace(0, nsamples*interval, nsamples)\n",
    "    \n",
    "#     plt.xlabel('offset [m]')\n",
    "#     plt.ylabel('time [s]')\n",
    "#     plt.show()\n",
    "       "
   ]
  },
  {
   "cell_type": "code",
   "execution_count": null,
   "metadata": {
    "collapsed": false
   },
   "outputs": [],
   "source": [
    "%pylab inline\n",
    "pylab.rcParams['figure.figsize'] = (50, 35)\n",
    "\n",
    "#plt.close()\n",
    "#Y-axis\n",
    "time_vec = np.linspace(0, nsamples*interval, nsamples)\n",
    "#Now plot!\n",
    "offset = all_offset[25]\n",
    "x = new_all_data[25] + all_offset[25]\n",
    "y = time_vec\n",
    "plt.plot(x, y, 'k-')\n",
    "#usar fill_betweenx\n",
    "plt.fill_betweenx(list(y),offset,list(x), where = x >= offset, color='black')\n",
    "# for dist in all_offset:\n",
    "#     for trace in new_all_data:\n",
    "#         plt.plot(trace + dist, time_vec, 'k-')\n",
    "#         break\n",
    "    \n",
    "        \n",
    "plt.xlim([min(all_offset),max(all_offset)])\n",
    "\n",
    "plt.show()\n"
   ]
  },
  {
   "cell_type": "code",
   "execution_count": 279,
   "metadata": {
    "collapsed": false
   },
   "outputs": [
    {
     "ename": "TypeError",
     "evalue": "'>' not supported between instances of 'Int32' and 'list'",
     "output_type": "error",
     "traceback": [
      "\u001b[0;31m---------------------------------------------------------------------------\u001b[0m",
      "\u001b[0;31mTypeError\u001b[0m                                 Traceback (most recent call last)",
      "\u001b[0;32m<ipython-input-279-51f227de626a>\u001b[0m in \u001b[0;36m<module>\u001b[0;34m()\u001b[0m\n\u001b[1;32m      4\u001b[0m \u001b[0;31m# plt.close()\u001b[0m\u001b[0;34m\u001b[0m\u001b[0;34m\u001b[0m\u001b[0m\n\u001b[1;32m      5\u001b[0m \u001b[0;34m\u001b[0m\u001b[0m\n\u001b[0;32m----> 6\u001b[0;31m \u001b[0moffset\u001b[0m \u001b[0;34m>\u001b[0m \u001b[0mlist\u001b[0m\u001b[0;34m(\u001b[0m\u001b[0mx\u001b[0m\u001b[0;34m)\u001b[0m\u001b[0;34m\u001b[0m\u001b[0m\n\u001b[0m",
      "\u001b[0;31mTypeError\u001b[0m: '>' not supported between instances of 'Int32' and 'list'"
     ]
    }
   ],
   "source": [
    "# # len([[dist+samples] for dist in all_offset for samples in new_all_data])\n",
    "# # #len(new_all_data)\n",
    "# plt.plot(new_all_data[0] + abs(all_offset[0]), time_vec,'k-')\n",
    "# plt.close()\n",
    "\n",
    "offset > list(x)"
   ]
  }
 ],
 "metadata": {
  "kernelspec": {
   "display_name": "Python [py36-test]",
   "language": "python",
   "name": "Python [py36-test]"
  },
  "language_info": {
   "codemirror_mode": {
    "name": "ipython",
    "version": 3
   },
   "file_extension": ".py",
   "mimetype": "text/x-python",
   "name": "python",
   "nbconvert_exporter": "python",
   "pygments_lexer": "ipython3",
   "version": "3.6.0"
  }
 },
 "nbformat": 4,
 "nbformat_minor": 0
}
